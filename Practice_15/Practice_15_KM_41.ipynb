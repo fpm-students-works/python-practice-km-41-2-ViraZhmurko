{
  "cells": [
    {
      "cell_type": "markdown",
      "metadata": {
        "id": "FMqboNwO4rVs"
      },
      "source": [
        "# **Курс \"Програмування на мові Python\"**"
      ]
    },
    {
      "cell_type": "markdown",
      "metadata": {
        "id": "A2T6MigL5Z06"
      },
      "source": [
        "## **Практичне зайняття №13**\n",
        "\n",
        "### Тема: \"Робота з файлами\""
      ]
    },
    {
      "cell_type": "markdown",
      "metadata": {
        "id": "cfCdgK2zXm7e"
      },
      "source": [
        "### **Завдання 1 (1,5 бали)**\n",
        "\n",
        "У 1939 році друком вийшов роман американського письменика Ернеста Вінсента Райта \"Ґетсбі\". Особливу увагу публіки він здобув через те, що письменник жодного разу не використав у романі літеру \"e\" (роман складається з більше ніж 50,000 слів), яка є найбільш вживаною літерою в англійській мові.\n",
        "\n",
        "Порахуйте кількість входжень кожної літери у текст роману. Виведіть список літер англійського алфавіту, а також інформацію про те, скільки відсотків від усіх літер тексту складає кожна літера алфавіту.\n",
        "\n",
        "Зауваження:\n",
        "\n",
        "1. Програма має ігнорувати будь-які символи, окрім літер.\n",
        "\n",
        "2. Переведіть усі літери у верхній або у нижній регістр.\n",
        "\n",
        "3. Під час виведення відсортуйте літери у порядку зменшення їхнього відсотка. Літера \"e\" має стояти на останньому місці у цьому списку (хоча кілька літер e там все ж таки зустрічається).\n",
        "\n",
        "4. Виведіть перші 5 та останні 5 літер відсортованого списку разом з відсотковими значеннями, що їм відповідають. Відсотки округліть до тисячних."
      ]
    },
    {
      "cell_type": "code",
      "execution_count": null,
      "metadata": {
        "id": "u4-fHJJ6U462",
        "tags": [
          "outputPrepend"
        ]
      },
      "outputs": [
        {
          "name": "stdout",
          "output_type": "stream",
          "text": [
            "First 5 letters:\n",
            "'a': 23231 (10.952%)\n",
            "'o': 22100 (10.419%)\n",
            "'i': 18720 (8.825%)\n",
            "'n': 18236 (8.597%)\n",
            "'t': 18017 (8.494%)\n",
            "\n",
            "Last 5 letters:\n",
            "'j': 487 (0.230%)\n",
            "'z': 228 (0.107%)\n",
            "'x': 168 (0.079%)\n",
            "'q': 109 (0.051%)\n",
            "'e': 4 (0.002%)\n"
          ]
        }
      ],
      "source": [
        "import re\n",
        "from collections import Counter\n",
        "\n",
        "fileName = \"gadsby.txt\"\n",
        "with open(fileName, \"r\", encoding=\"utf-8\") as file:\n",
        "    read_content = file.read()\n",
        "\n",
        "cleaned_content = re.sub(r'[^a-zA-Z]', '', read_content).lower()\n",
        "\n",
        "letter_count = Counter(cleaned_content)\n",
        "\n",
        "total_letters = sum(letter_count.values())\n",
        "\n",
        "alphabet = 'abcdefghijklmnopqrstuvwxyz'\n",
        "\n",
        "for letter in alphabet:\n",
        "    count = letter_count.get(letter, 0)  \n",
        "    percentage = (count / total_letters) * 100  \n",
        "    letter_count[letter] = (count, percentage)  \n",
        "\n",
        "sorted_letter_count = sorted(letter_count.items(), key=lambda x: x[1][1], reverse=True)\n",
        "\n",
        "print(\"First 5 letters:\")\n",
        "for letter, (count, percentage) in sorted_letter_count[:5]:\n",
        "    print(f\"'{letter}': {count} ({percentage:.3f}%)\")\n",
        "\n",
        "print(\"\\nLast 5 letters:\")\n",
        "for letter, (count, percentage) in sorted_letter_count[-5:]:\n",
        "    print(f\"'{letter}': {count} ({percentage:.3f}%)\")"
      ]
    },
    {
      "cell_type": "markdown",
      "metadata": {
        "id": "A34oz70eU463"
      },
      "source": [
        "### **Завдання 2 (1,5 бали)**\n",
        "\n",
        "Архів archive.zip містить 140 txt-файлів, в яких збережено інфорамцію про те, якими іменами називали дітей у США в період з 1880 по 2019 рік.\n",
        "\n",
        "Структура рядка кожного файлу така:\n",
        "\n",
        "*name,sex,number_of_occurrences*\n",
        "\n",
        "Напишіть програму, яка зчитуватиме кожен файл та визначатиме окремо чоловічі, окремо жіночі імена, що були найпопулярнішими хоча б в один з років. Далі програма повинна підраховувати, скільки разів кожне з цих імен ставало найпопулярнишим, та виводити ранжовані списки чоловічіх та жіночих імен у вигляді:\n",
        "\n",
        "```\n",
        "Michael 44\n",
        "John 44\n",
        "Robert 17\n",
        "...\n",
        "\n",
        "Mary 76\n",
        "Jennifer 15\n",
        "Emily 12\n",
        "...\n",
        "```"
      ]
    },
    {
      "cell_type": "code",
      "execution_count": 22,
      "metadata": {},
      "outputs": [
        {
          "name": "stdout",
          "output_type": "stream",
          "text": [
            "Mary 76\n",
            "Jennifer 15\n",
            "Emily 12\n",
            "Jessica 9\n",
            "Lisa 8\n",
            "Linda 6\n",
            "Emma 6\n",
            "Sophia 3\n",
            "Isabella 2\n",
            "Ashley 2\n",
            "Olivia 1\n",
            "Michael 44\n",
            "John 44\n",
            "Robert 17\n",
            "Jacob 14\n",
            "James 13\n",
            "Noah 4\n",
            "Liam 3\n",
            "David 1\n"
          ]
        }
      ],
      "source": [
        "import zipfile\n",
        "\n",
        "zipfil = zipfile.ZipFile(\"archive.zip\")\n",
        "female_list = []\n",
        "male_list = []\n",
        "newfemale = []\n",
        "newmale = []\n",
        "for i in range(1880, 2020):\n",
        "    yob = zipfil.open(f\"yob{i}.txt\", \"r\").readlines()\n",
        "    m = 0\n",
        "    f = 0\n",
        "    for element in yob:\n",
        "        element = str(element)[2:len(str(element))-5]\n",
        "        list_yob = element.split(\",\")\n",
        "        if list_yob[1] == \"F\" and f == 0:\n",
        "            female_list.append(list_yob[0])\n",
        "            f = 1\n",
        "        if list_yob[1] == \"M\" and m == 0:\n",
        "            male_list.append(list_yob[0])\n",
        "            m = 1\n",
        "\n",
        "femaledict = dict()\n",
        "maledict = dict()\n",
        "\n",
        "for element in female_list:\n",
        "    femaledict.update({element: femaledict.get(element, 0)+1})\n",
        "\n",
        "for element in male_list:\n",
        "    maledict.update({element: maledict.get(element, 0)+1})\n",
        "\n",
        "for i in femaledict.items():\n",
        "    newfemale.append([i[1], i[0]])\n",
        "\n",
        "for i in maledict.items():\n",
        "    newmale.append([i[1], i[0]])\n",
        "\n",
        "newfemale = list(reversed(sorted(newfemale)))\n",
        "newmale = list(reversed(sorted(newmale)))\n",
        "\n",
        "for index in range(len(newfemale)):\n",
        "    print(f\"{newfemale[index][1]} {newfemale[index][0]}\")\n",
        "\n",
        "for index in range(len(newmale)):\n",
        "    print(f\"{newmale[index][1]} {newmale[index][0]}\")\n",
        "\n",
        "\n",
        "\n"
      ]
    }
  ],
  "metadata": {
    "colab": {
      "collapsed_sections": [],
      "name": "Practice_14_KM_01.ipynb",
      "provenance": []
    },
    "kernelspec": {
      "display_name": "Python 3",
      "name": "python3"
    },
    "language_info": {
      "codemirror_mode": {
        "name": "ipython",
        "version": 3
      },
      "file_extension": ".py",
      "mimetype": "text/x-python",
      "name": "python",
      "nbconvert_exporter": "python",
      "pygments_lexer": "ipython3",
      "version": "3.12.6"
    }
  },
  "nbformat": 4,
  "nbformat_minor": 0
}
