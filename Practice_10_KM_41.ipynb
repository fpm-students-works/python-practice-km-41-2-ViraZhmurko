{
 "cells": [
  {
   "cell_type": "markdown",
   "metadata": {
    "id": "FMqboNwO4rVs"
   },
   "source": [
    "# **Курс \"Програмування на мові Python\"**"
   ]
  },
  {
   "cell_type": "markdown",
   "metadata": {
    "id": "A2T6MigL5Z06"
   },
   "source": [
    "## **Практичне зайняття №10**\n",
    "\n",
    "### Тема: \"Лямбда-функції. Функції вищих порядків\""
   ]
  },
  {
   "cell_type": "markdown",
   "metadata": {
    "id": "cfCdgK2zXm7e"
   },
   "source": [
    "### **Завдання 1 (1 бал)**\n",
    "\n",
    "Керівництво будівельної компанії вирішило підняти заробітні плати всім своїм працівникам на 30%. В залежності від спеціалізації та стажу працівники мають різну заробітну плату. Для підготовки звіту необхідно розрахувати нову заробітну плату для працівників компанії, а також суму індексації.\n",
    "\n",
    "Написати програму, яка буде генерувати таблицю для цього звіту. Початкова заробітна плата працівників подана у списку salary_list (у тисячах гривень). \n",
    "\n",
    "1. Для підрахунку невідомих значень повинні використовуватись вбудовані функції вищих порядків.\n",
    "\n",
    "2. Зарплата після індексації та сума індексації для працівників різних категорій повинні зберігатись у двох окремих списках. Порядок значень у кожному з нових списків повинен відповідати порядку значень у списку salary_list.\n",
    "\n",
    "3. Кожне підраховане числове значення має бути округлене до сотих.\n",
    "\n",
    "4. Дані повинні виводитись у вигляді:\n",
    "\n",
    "**Salary table:**\n",
    "\n",
    "**6.4 8.32 1.92**\n",
    "\n",
    "**9.35 12.16 2.81**\n",
    "\n",
    "**...**\n",
    "\n",
    "salary_list = [6.4, 9.35, 11.4, 14, 23.8, 28.15, 34.7]"
   ]
  },
  {
   "cell_type": "code",
   "execution_count": 2,
   "metadata": {
    "id": "ifNX2M7LXm7f"
   },
   "outputs": [
    {
     "name": "stdout",
     "output_type": "stream",
     "text": [
      "Salary table:\n",
      "6.4 8.32 1.92\n",
      "9.35 12.15 2.8\n",
      "11.4 14.82 3.42\n",
      "14 18.2 4.2\n",
      "23.8 30.94 7.14\n",
      "28.15 36.59 8.44\n",
      "34.7 45.11 10.41\n"
     ]
    }
   ],
   "source": [
    "salary_list = [6.4, 9.35, 11.4, 14, 23.8, 28.15, 34.7]\n",
    "index_salaries = []\n",
    "indexation_amounts = []\n",
    "for salary in salary_list:\n",
    "    indexation = round(salary * 0.3, 2)\n",
    "    new_salary = round(salary + indexation, 2)\n",
    "    index_salaries.append(new_salary)\n",
    "    indexation_amounts.append(indexation)\n",
    "print(\"Salary table:\")\n",
    "for i in range(len(salary_list)):\n",
    "    print(f\"{salary_list[i]} {index_salaries[i]} {indexation_amounts[i]}\")"
   ]
  },
  {
   "cell_type": "markdown",
   "metadata": {},
   "source": [
    "### **Завдання 2 (2 бали)**\n",
    "\n",
    "Зазвичай рік має 365 днів. Однак у високосні роки додається ще один день - 29 лютого. Правила визначення високосного року такі:\n",
    "\n",
    "- Будь-який рік, що ділиться на 400 - високосний.\n",
    "\n",
    "- З тих років, що залишились, будь-який рік, що ділиться на 100 - **не** високосний.\n",
    "\n",
    "- З тих років, що залишились, будь-який рік, що ділиться на 4 - високосний.\n",
    "\n",
    "- Усі інші роки, що залишились - **не** високосні.\n",
    "\n",
    "1) Створіть функцію, в якій за допомогою вбудованих функцій вищих порядків будуть визначатися високосні роки серед перелічених років у списку years. Створена функція має повертати список високосних років.\n",
    "\n",
    "2) Створіть функцію вищих порядків, яка прийматиме на вхід попередню функцію та визначатиме кількість днів у місяці. Також функція повинна приймати на вхід ще 2 параметри: ціле число від 1 до 12 (місяць) та рік, як ціле чотирицифрове число. Ці значення корисувач має вводити з клавіатури. Перевірку введених даних слід виконувати поза межами функцій."
   ]
  },
  {
   "cell_type": "code",
   "execution_count": 6,
   "metadata": {},
   "outputs": [
    {
     "name": "stdout",
     "output_type": "stream",
     "text": [
      "Кількість днів у місяці 5 року 2024: 31\n"
     ]
    }
   ],
   "source": [
    "import numpy as np\n",
    "\n",
    "years = np.arange(1900, 2020+1, 1)\n",
    "def if_leap_year(year):\n",
    "    if year % 400 == 0:\n",
    "        return True\n",
    "    elif year % 100 == 0:\n",
    "        return False\n",
    "    elif year % 4 == 0:\n",
    "        return True\n",
    "    else:\n",
    "        return False\n",
    "def get_leap_year(years):\n",
    "    leap_years = []\n",
    "    for year in years:\n",
    "        if if_leap_year(year):\n",
    "            leap_years.append(year)\n",
    "    return leap_years\n",
    "def days_month(month, year):\n",
    "    if month == 2:\n",
    "        if if_leap_year(year):\n",
    "            return 29\n",
    "        else:\n",
    "            return 30\n",
    "    elif month in [4, 6, 9, 11]:\n",
    "        return 30\n",
    "    else:\n",
    "        return 31\n",
    "while True:\n",
    "    try:\n",
    "        month = int(input(\"Write the number of month (1-12): \"))\n",
    "        if month < 1 or month > 12:\n",
    "            print(\"Number of month has to be from 1 to 12.\")\n",
    "            continue\n",
    "        year = int(input(\"Write the number of year: \"))\n",
    "        if year < 1:\n",
    "            print(\"The number of the year has to be positive.\")\n",
    "            break\n",
    "    except ValueError:\n",
    "        print(\"Write the correct numbers.\")\n",
    "    break\n",
    "days = days_month(month, year)\n",
    "print(f\"Кількість днів у місяці {month} року {year}: {days}\")"
   ]
  }
 ],
 "metadata": {
  "colab": {
   "collapsed_sections": [],
   "name": "Practice_7_KM-01_.ipynb",
   "provenance": []
  },
  "kernelspec": {
   "display_name": "Python 3",
   "name": "python3"
  },
  "language_info": {
   "codemirror_mode": {
    "name": "ipython",
    "version": 3
   },
   "file_extension": ".py",
   "mimetype": "text/x-python",
   "name": "python",
   "nbconvert_exporter": "python",
   "pygments_lexer": "ipython3",
   "version": "3.12.6"
  }
 },
 "nbformat": 4,
 "nbformat_minor": 0
}
