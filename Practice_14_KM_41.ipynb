{
 "cells": [
  {
   "cell_type": "markdown",
   "metadata": {
    "id": "FMqboNwO4rVs"
   },
   "source": [
    "# **Курс \"Програмування на мові Python\"**"
   ]
  },
  {
   "cell_type": "markdown",
   "metadata": {
    "id": "A2T6MigL5Z06"
   },
   "source": [
    "## **Практичне зайняття №16**\n",
    "\n",
    "### Тема: \"Декоратори\""
   ]
  },
  {
   "cell_type": "markdown",
   "metadata": {},
   "source": [
    "### **Завдання 1 (3 бали)**\n",
    "\n",
    "Реалізуйте підрахунок площі трикутника з використанням декоратора, який перевірятиме можливість побудови трикутника з трьох введених користувачем сторін.\n",
    "\n",
    "1. Напишіть функцію area_calculation, яка підраховуватиме площу трикутника за трьома сторонами. Для підрахунку можете скористатись формулою Герона.\n",
    "\n",
    "2. Напишіть функцію check, яка перевірятиме правильність введених користувачем значень (значення мають бути додатними числами, не обов'язково цілими).\n",
    "\n",
    "3. Створіть декоратор triangle_ineq, який перевірятиме виконання нерівності трикутрика для трьох заданих користувачем сторін. Навісьте декоратор triangle_ineq на функція area_calculation та перевірте правильність роботи програми."
   ]
  },
  {
   "cell_type": "code",
   "execution_count": 30,
   "metadata": {},
   "outputs": [
    {
     "name": "stdout",
     "output_type": "stream",
     "text": [
      "Something is wrong with the side of triangle.\n",
      "The area of triangle: (2.9997597730436923e-16+4.898979485566356j)\n"
     ]
    }
   ],
   "source": [
    "def check(text):\n",
    "    while(True):\n",
    "        a = input(text)\n",
    "        try: \n",
    "            a = float(a)\n",
    "            if a <= 0:\n",
    "                raise TypeError\n",
    "            break\n",
    "        except ValueError:\n",
    "            print(\"Write a number.\")\n",
    "        except TypeError:\n",
    "            print(\"Write a positive number.\")\n",
    "    return a\n",
    "\n",
    "x = check(\"Write a number: \")\n",
    "y = check(\"Write a number: \")\n",
    "z = check(\"Write a number: \")\n",
    "\n",
    "def triangle_ineq(fnc):\n",
    "    if x < y + z and y < z + x and z < x + y:\n",
    "        print(\"Everything is good.\")\n",
    "    else: \n",
    "        print(\"Something is wrong with the side of triangle.\")\n",
    "    return fnc()\n",
    "\n",
    "@triangle_ineq\n",
    "def calculation_area():\n",
    "    p = (x+y+z)/2\n",
    "    s = (p*(p-x)*(p-y)*(p-z))**0.5\n",
    "    print(f\"The area of triangle: {s}\")"
   ]
  }
 ],
 "metadata": {
  "colab": {
   "collapsed_sections": [],
   "name": "Practice_10-11_KM_01_.ipynb",
   "provenance": []
  },
  "kernelspec": {
   "display_name": "Python 3",
   "name": "python3"
  },
  "language_info": {
   "codemirror_mode": {
    "name": "ipython",
    "version": 3
   },
   "file_extension": ".py",
   "mimetype": "text/x-python",
   "name": "python",
   "nbconvert_exporter": "python",
   "pygments_lexer": "ipython3",
   "version": "3.12.6"
  }
 },
 "nbformat": 4,
 "nbformat_minor": 0
}
